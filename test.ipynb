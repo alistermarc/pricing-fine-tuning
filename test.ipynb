{
 "cells": [
  {
   "cell_type": "code",
   "execution_count": 1,
   "id": "bf020a84",
   "metadata": {},
   "outputs": [],
   "source": [
    "import sys\n",
    "import os\n",
    "# Add the project root to the Python path to allow imports from src\n",
    "project_root = os.path.abspath(os.path.join(os.getcwd()))\n",
    "if project_root not in sys.path:\n",
    "    sys.path.insert(0, project_root)"
   ]
  },
  {
   "cell_type": "code",
   "execution_count": 2,
   "id": "c92624a7",
   "metadata": {},
   "outputs": [],
   "source": [
    "# Let's avoid curating all our data again! Load in the pickle files:\n",
    "import pickle\n",
    "\n",
    "with open('data/train.pkl', 'rb') as file:\n",
    "    train = pickle.load(file)\n",
    "\n",
    "with open('data/test.pkl', 'rb') as file:\n",
    "    test = pickle.load(file)"
   ]
  },
  {
   "cell_type": "code",
   "execution_count": 3,
   "id": "d9ef7abd",
   "metadata": {},
   "outputs": [
    {
     "name": "stdout",
     "output_type": "stream",
     "text": [
      "11.99\n"
     ]
    }
   ],
   "source": [
    "print(train[0].price)"
   ]
  },
  {
   "cell_type": "code",
   "execution_count": 7,
   "id": "413d390d",
   "metadata": {},
   "outputs": [
    {
     "name": "stdout",
     "output_type": "stream",
     "text": [
      "Loaded 27000 items.\n",
      "Saving dataset to huggingface_dataset_train.jsonl...\n",
      "Saving dataset to huggingface_dataset_test.jsonl...\n",
      "Dataset created successfully.\n"
     ]
    }
   ],
   "source": [
    "import json\n",
    "\n",
    "all_items = train + test\n",
    "print(f\"Loaded {len(all_items)} items.\")\n",
    "\n",
    "train_dataset = []\n",
    "for item in train:\n",
    "    if item.include:\n",
    "        train_dataset.append({\n",
    "            \"prompt\": item.prompt,\n",
    "            \"price\": item.price\n",
    "        })\n",
    "\n",
    "test_dataset = []\n",
    "for item in test:\n",
    "    if item.include:\n",
    "        test_dataset.append({\n",
    "            \"prompt\": item.test_prompt(),\n",
    "            \"price\": item.price\n",
    "        })\n",
    "\n",
    "train_output_file = \"huggingface_dataset_train.jsonl\"\n",
    "print(f\"Saving dataset to {train_output_file}...\")\n",
    "with open(train_output_file, 'w') as f:\n",
    "    for entry in train_dataset:\n",
    "        json.dump(entry, f)\n",
    "        f.write('\\n')\n",
    "\n",
    "test_output_file = \"huggingface_dataset_test.jsonl\"\n",
    "print(f\"Saving dataset to {test_output_file}...\")\n",
    "with open(test_output_file, 'w') as f:\n",
    "    for entry in test_dataset:\n",
    "        json.dump(entry, f)\n",
    "        f.write('\\n')\n",
    "\n",
    "print(\"Dataset created successfully.\")"
   ]
  },
  {
   "cell_type": "code",
   "execution_count": 15,
   "id": "b9b89323",
   "metadata": {},
   "outputs": [
    {
     "name": "stderr",
     "output_type": "stream",
     "text": [
      "Note: Environment variable`HF_TOKEN` is set and is the current active token independently from the token you've just configured.\n"
     ]
    },
    {
     "data": {
      "application/vnd.jupyter.widget-view+json": {
       "model_id": "9910f3a896824dedab6739245906ec2c",
       "version_major": 2,
       "version_minor": 0
      },
      "text/plain": [
       "Uploading the dataset shards:   0%|          | 0/1 [00:00<?, ?it/s]"
      ]
     },
     "metadata": {},
     "output_type": "display_data"
    },
    {
     "data": {
      "application/vnd.jupyter.widget-view+json": {
       "model_id": "b251db3fc41b49afb665fca0cd6a926b",
       "version_major": 2,
       "version_minor": 0
      },
      "text/plain": [
       "Creating parquet from Arrow format:   0%|          | 0/25 [00:00<?, ?ba/s]"
      ]
     },
     "metadata": {},
     "output_type": "display_data"
    },
    {
     "data": {
      "application/vnd.jupyter.widget-view+json": {
       "model_id": "19e523ac16a146088dc75967c1c0aa03",
       "version_major": 2,
       "version_minor": 0
      },
      "text/plain": [
       "Processing Files (0 / 0)                : |          |  0.00B /  0.00B            "
      ]
     },
     "metadata": {},
     "output_type": "display_data"
    },
    {
     "data": {
      "application/vnd.jupyter.widget-view+json": {
       "model_id": "c79f789e86c84a13aa7f373424f1d030",
       "version_major": 2,
       "version_minor": 0
      },
      "text/plain": [
       "New Data Upload                         : |          |  0.00B /  0.00B            "
      ]
     },
     "metadata": {},
     "output_type": "display_data"
    },
    {
     "data": {
      "application/vnd.jupyter.widget-view+json": {
       "model_id": "08633cb0497e4e05a3c7411008fa90d0",
       "version_major": 2,
       "version_minor": 0
      },
      "text/plain": [
       "                                        : 100%|##########| 9.84MB / 9.84MB            "
      ]
     },
     "metadata": {},
     "output_type": "display_data"
    },
    {
     "data": {
      "application/vnd.jupyter.widget-view+json": {
       "model_id": "0c830737e8de42daa8f5a2b3a87bba77",
       "version_major": 2,
       "version_minor": 0
      },
      "text/plain": [
       "Uploading the dataset shards:   0%|          | 0/1 [00:00<?, ?it/s]"
      ]
     },
     "metadata": {},
     "output_type": "display_data"
    },
    {
     "data": {
      "application/vnd.jupyter.widget-view+json": {
       "model_id": "abfbda52a0954a12b5d57258530b443c",
       "version_major": 2,
       "version_minor": 0
      },
      "text/plain": [
       "Creating parquet from Arrow format:   0%|          | 0/2 [00:00<?, ?ba/s]"
      ]
     },
     "metadata": {},
     "output_type": "display_data"
    },
    {
     "data": {
      "application/vnd.jupyter.widget-view+json": {
       "model_id": "9adaa289f9c647838cca752cdede9c99",
       "version_major": 2,
       "version_minor": 0
      },
      "text/plain": [
       "Processing Files (0 / 0)                : |          |  0.00B /  0.00B            "
      ]
     },
     "metadata": {},
     "output_type": "display_data"
    },
    {
     "data": {
      "application/vnd.jupyter.widget-view+json": {
       "model_id": "94043fd955c74cb99c8912d023f0bb56",
       "version_major": 2,
       "version_minor": 0
      },
      "text/plain": [
       "New Data Upload                         : |          |  0.00B /  0.00B            "
      ]
     },
     "metadata": {},
     "output_type": "display_data"
    },
    {
     "data": {
      "application/vnd.jupyter.widget-view+json": {
       "model_id": "3124b5dd76994ca28330103719b61918",
       "version_major": 2,
       "version_minor": 0
      },
      "text/plain": [
       "                                        : 100%|##########|  780kB /  780kB            "
      ]
     },
     "metadata": {},
     "output_type": "display_data"
    },
    {
     "data": {
      "text/plain": [
       "CommitInfo(commit_url='https://huggingface.co/datasets/alistermarc/llama3-pricer-2025-08-30_02.01.02/commit/ef450ef950703f97c0bbcfdea9b3a061b17b7372', commit_message='Upload dataset', commit_description='', oid='ef450ef950703f97c0bbcfdea9b3a061b17b7372', pr_url=None, repo_url=RepoUrl('https://huggingface.co/datasets/alistermarc/llama3-pricer-2025-08-30_02.01.02', endpoint='https://huggingface.co', repo_type='dataset', repo_id='alistermarc/llama3-pricer-2025-08-30_02.01.02'), pr_revision=None, pr_num=None)"
      ]
     },
     "execution_count": 15,
     "metadata": {},
     "output_type": "execute_result"
    }
   ],
   "source": [
    "from datasets import dataset_dict, load_dataset, DatasetDict\n",
    "from src.config import HF_USER, PROJECT_NAME\n",
    "from datetime import datetime\n",
    "from dotenv import load_dotenv\n",
    "from huggingface_hub import login\n",
    "\n",
    "load_dotenv(override=True)\n",
    "hf_token = os.getenv('HF_TOKEN')\n",
    "login(hf_token, add_to_git_credential=True)\n",
    "\n",
    " # Hugging Face Configuration\n",
    "RUN_NAME =  f\"{datetime.now():%Y-%m-%d_%H.%M.%S}\"\n",
    "PROJECT_RUN_NAME = f\"{PROJECT_NAME}-{RUN_NAME}\"\n",
    "HUB_MODEL_NAME = f\"{HF_USER}/{PROJECT_RUN_NAME}\"\n",
    "\n",
    "# Load the dataset\n",
    "train_dataset = load_dataset('json', data_files='huggingface_dataset_train.jsonl', split='train')\n",
    "test_dataset = load_dataset('json', data_files='huggingface_dataset_test.jsonl', split='train')\n",
    "\n",
    "dataset_dict = DatasetDict({\n",
    "    \"train\": train_dataset,\n",
    "    \"test\": test_dataset\n",
    "})\n",
    "\n",
    "# Push to Hub (replace with your username and desired dataset name)\n",
    "dataset_dict.push_to_hub(HUB_MODEL_NAME)"
   ]
  },
  {
   "cell_type": "code",
   "execution_count": null,
   "id": "0908e94a",
   "metadata": {},
   "outputs": [],
   "source": []
  }
 ],
 "metadata": {
  "kernelspec": {
   "display_name": ".venv",
   "language": "python",
   "name": "python3"
  },
  "language_info": {
   "codemirror_mode": {
    "name": "ipython",
    "version": 3
   },
   "file_extension": ".py",
   "mimetype": "text/x-python",
   "name": "python",
   "nbconvert_exporter": "python",
   "pygments_lexer": "ipython3",
   "version": "3.12.11"
  }
 },
 "nbformat": 4,
 "nbformat_minor": 5
}
